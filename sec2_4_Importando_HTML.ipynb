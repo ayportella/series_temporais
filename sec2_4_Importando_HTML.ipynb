{
  "cells": [
    {
      "cell_type": "markdown",
      "metadata": {
        "id": "view-in-github",
        "colab_type": "text"
      },
      "source": [
        "<a href=\"https://colab.research.google.com/github/ayportella/series_temporais/blob/main/sec2_4_Importando_HTML.ipynb\" target=\"_parent\"><img src=\"https://colab.research.google.com/assets/colab-badge.svg\" alt=\"Open In Colab\"/></a>"
      ]
    },
    {
      "cell_type": "markdown",
      "metadata": {
        "id": "46Pph5XhvAwm"
      },
      "source": [
        "# Importar HTML\n",
        "Prof. Fernando Amaral"
      ]
    },
    {
      "cell_type": "code",
      "execution_count": 1,
      "metadata": {
        "id": "bNi1DOI4vAwq"
      },
      "outputs": [],
      "source": [
        "import pandas as pd\n",
        "br = pd.read_html(\"https://pt.wikipedia.org/wiki/Unidades_federativas_do_Brasil\")"
      ]
    },
    {
      "cell_type": "code",
      "execution_count": 2,
      "metadata": {
        "id": "saasGE2avAws",
        "outputId": "96361697-8530-47a9-a708-9a51d4bb72be",
        "colab": {
          "base_uri": "https://localhost:8080/"
        }
      },
      "outputs": [
        {
          "output_type": "stream",
          "name": "stdout",
          "text": [
            "<class 'list'>\n"
          ]
        }
      ],
      "source": [
        "#verificamos o tipo criado, vemos que é uma lista\n",
        "print(type(br))"
      ]
    },
    {
      "cell_type": "code",
      "execution_count": 3,
      "metadata": {
        "id": "RUksfmCxvAwt",
        "colab": {
          "base_uri": "https://localhost:8080/"
        },
        "outputId": "d45e0b39-2b5f-4220-d238-8c7f1a42999a"
      },
      "outputs": [
        {
          "output_type": "stream",
          "name": "stdout",
          "text": [
            "    Bandeira   Unidade federativa Abreviação Sede de governo   Área (km²)  \\\n",
            "0        NaN                 Acre         AC      Rio Branco    164 122,2   \n",
            "1        NaN              Alagoas         AL          Maceió     27 767,7   \n",
            "2        NaN                Amapá         AP          Macapá    142 814,6   \n",
            "3        NaN             Amazonas         AM          Manaus  1 570 745,7   \n",
            "4        NaN                Bahia         BA        Salvador    564 692,7   \n",
            "5        NaN                Ceará         CE       Fortaleza    148 825,6   \n",
            "6        NaN     Distrito Federal         DF        Brasília      5 822,1   \n",
            "7        NaN       Espírito Santo         ES         Vitória     46 077,5   \n",
            "8        NaN                Goiás         GO         Goiânia    340 086,7   \n",
            "9        NaN             Maranhão         MA        São Luís    331 983,3   \n",
            "10       NaN          Mato Grosso         MT          Cuiabá    903 357,9   \n",
            "11       NaN   Mato Grosso do Sul         MS    Campo Grande    357 125,0   \n",
            "12       NaN         Minas Gerais         MG  Belo Horizonte    586 528,3   \n",
            "13       NaN                 Pará         PA           Belém  1 247 689,5   \n",
            "14       NaN              Paraíba         PB     João Pessoa     56 439,8   \n",
            "15       NaN               Paraná         PR        Curitiba    199 314,9   \n",
            "16       NaN           Pernambuco         PE          Recife     98 311,6   \n",
            "17       NaN                Piauí         PI        Teresina    251 529,2   \n",
            "18       NaN       Rio de Janeiro         RJ  Rio de Janeiro     43 696,1   \n",
            "19       NaN  Rio Grande do Norte         RN           Natal     52 796,8   \n",
            "20       NaN    Rio Grande do Sul         RS    Porto Alegre    281 748,5   \n",
            "21       NaN             Rondônia         RO     Porto Velho    237 576,2   \n",
            "22       NaN              Roraima         RR       Boa Vista    224 299,0   \n",
            "23       NaN       Santa Catarina         SC   Florianópolis     95 346,2   \n",
            "24       NaN            São Paulo         SP       São Paulo    248 209,4   \n",
            "25       NaN              Sergipe         SE         Aracaju     21 910,3   \n",
            "26       NaN            Tocantins         TO          Palmas    277 620,9   \n",
            "\n",
            "   População (2014)  Densidade (2005)     PIB (2015)  (% total) (2015)  \\\n",
            "0           795 145               430     13 622 000                 2   \n",
            "1         3 327 551             10861     46 364 000                 8   \n",
            "2           756 500               416     13 861 000                 2   \n",
            "3         3 893 763               205     86 560 000                14   \n",
            "4        15 150 143              2446    245 025 000                41   \n",
            "5         8 867 448              5440    130 621 000                22   \n",
            "6         2 867 869             40073    215 613 000                36   \n",
            "7         3 894 899              7397    120 363 000                 2   \n",
            "8         6 551 322              1652    173 632 000                29   \n",
            "9         6 861 924              1838     78 475 000                13   \n",
            "10        3 236 578               310    107 418 000                18   \n",
            "11        2 630 098               634     83 082 000                14   \n",
            "12       20 777 672              3279    519 326 000                87   \n",
            "13        8 101 180               558    130 883 000                22   \n",
            "14        3 950 359              6371     56 140 000                 9   \n",
            "15       11 112 062              5148    376 960 000                63   \n",
            "16        9 297 861              8558    156 955 000                26   \n",
            "17        3 198 185              1195     39 148 000                 7   \n",
            "18       16 497 395             35205    659 137 000                11   \n",
            "19        3 419 550              5688     57 250 000                 1   \n",
            "20       11 228 091              3849    381 985 000                64   \n",
            "21        1 755 015               646     36 563 000                 6   \n",
            "22          500 826               174     10 354 000                 2   \n",
            "23        6 734 568              6153    249 073 000                42   \n",
            "24       44 169 350             16293  1 939 890 000               324   \n",
            "25        2 227 294              8981     38 554 000                 6   \n",
            "26        1 502 759               470     28 930 000                 5   \n",
            "\n",
            "   PIB per capita (R$) (2015)  IDH (2010) Alfabetização (2016)  \\\n",
            "0                   16 953,46         663                86,9%   \n",
            "1                   13 877,53         631                80,6%   \n",
            "2                   18 079,54         708                  95%   \n",
            "3                   21 978,95         674                93,1%   \n",
            "4                   16 115,89         660                  87%   \n",
            "5                   14 669,14         682                84,8%   \n",
            "6                   73 971,05         824                97,4%   \n",
            "7                   30 627,45         740                93,8%   \n",
            "8                   26 265,32         735                93,5%   \n",
            "9                   11 366,23         639                83,3%   \n",
            "10                  32 894,96         725                93,5%   \n",
            "11                  31 337,22         729                93,7%   \n",
            "12                  24 884,94         731                93,8%   \n",
            "13                  16 009,98         646                90,7%   \n",
            "14                  14 133,32         658                83,7%   \n",
            "15                  33 768,62         749                95,5%   \n",
            "16                  16 795,34         673                87,2%   \n",
            "17                  12 218,51         646                82,8%   \n",
            "18                  39 826,95         761                97,3%   \n",
            "19                  16 631,86         684                85,3%   \n",
            "20                  33 960,36         746                96,8%   \n",
            "21                  20 677,95         690                93,3%   \n",
            "22                  20 476,71         707                93,4%   \n",
            "23                  36 525,28         774                97,2%   \n",
            "24                  43 694,68         783                97,2%   \n",
            "25                  17 189,28         665                85,3%   \n",
            "26                  19 094,16         699                89,6%   \n",
            "\n",
            "   Mortalidade infantil (2016) Expectativa de vida (2016)  \n",
            "0                        17,0‰                  73,9 anos  \n",
            "1                        19,5‰                  71,6 anos  \n",
            "2                        23,2‰                  73,9 anos  \n",
            "3                        18,2‰                  71,9 anos  \n",
            "4                        17,3‰                  73,5 anos  \n",
            "5                        14,4‰                  73,8 anos  \n",
            "6                        10,5‰                  78,1 anos  \n",
            "7                         8,8‰                  78,2 anos  \n",
            "8                        14,9‰                  74,2 anos  \n",
            "9                        21,3‰                  70,6 anos  \n",
            "10                       16,9‰                  74,2 anos  \n",
            "11                       14,0‰                  75,5 anos  \n",
            "12                       10,9‰                  77,2 anos  \n",
            "13                       16,6‰                  72,1 anos  \n",
            "14                       16,1‰                  73,2 anos  \n",
            "15                        9,3‰                  77,1 anos  \n",
            "16                       12,7‰                  73,9 anos  \n",
            "17                       19,1‰                  71,1 anos  \n",
            "18                       11,5‰                  76,2 anos  \n",
            "19                       14,7‰                  75,7 anos  \n",
            "20                        9,6‰                  77,8 anos  \n",
            "21                       20,0‰                  71,3 anos  \n",
            "22                       17,2‰                  71,5 anos  \n",
            "23                        9,2‰                  79,1 anos  \n",
            "24                        9,9‰                  78,1 anos  \n",
            "25                       16,2‰                  72,7 anos  \n",
            "26                       15,8‰                  73,4 anos  \n"
          ]
        }
      ],
      "source": [
        "#vamos ler o index zero\n",
        "u = br[1]\n",
        "print(u)"
      ]
    },
    {
      "cell_type": "code",
      "source": [
        "print(type(u))"
      ],
      "metadata": {
        "id": "uilYMMBMMnaV",
        "outputId": "931cce7b-ca12-4e94-a997-381742fd39ba",
        "colab": {
          "base_uri": "https://localhost:8080/"
        }
      },
      "execution_count": 4,
      "outputs": [
        {
          "output_type": "stream",
          "name": "stdout",
          "text": [
            "<class 'pandas.core.frame.DataFrame'>\n"
          ]
        }
      ]
    },
    {
      "cell_type": "code",
      "execution_count": 5,
      "metadata": {
        "id": "ITWuCAydvAwt",
        "outputId": "cde6a4df-8712-4f45-be5b-5ffdec324380",
        "colab": {
          "base_uri": "https://localhost:8080/"
        }
      },
      "outputs": [
        {
          "output_type": "stream",
          "name": "stdout",
          "text": [
            "    Posição            Nome do banco     Cidade sede  \\\n",
            "0         1            Itaú Unibanco       São Paulo   \n",
            "1         2          Banco do Brasil        Brasília   \n",
            "2         3  Caixa Econômica Federal        Brasília   \n",
            "3         4                 Bradesco          Osasco   \n",
            "4         5         Santander Brasil       São Paulo   \n",
            "5         6              BTG Pactual  Rio de Janeiro   \n",
            "6         7              Banco Safra       São Paulo   \n",
            "7         8                   Sicoob        Brasília   \n",
            "8         9         Banco Votorantim       São Paulo   \n",
            "9        10          Citibank Brasil       São Paulo   \n",
            "10       11                 Banrisul    Porto Alegre   \n",
            "11       12        Banco do Nordeste       Fortaleza   \n",
            "\n",
            "   Ativos totais em R$ (bilhões)    Data dos dados  País de origem  \n",
            "0                       2.060[1]  Dezembro de 2021          Brasil  \n",
            "1                       2.000[2]  Dezembro de 2021          Brasil  \n",
            "2                       1.293[2]  Dezembro de 2019          Brasil  \n",
            "3                       1.152[3]  Dezembro de 2019          Brasil  \n",
            "4                       839,8[4]  Dezembro de 2019         Espanha  \n",
            "5                       176,6[5]  Dezembro de 2019          Brasil  \n",
            "6                       167,5[6]  Dezembro de 2019          Brasil  \n",
            "7                       117,2[5]  Dezembro de 2019          Brasil  \n",
            "8                        88,8[2]  Dezembro de 2019          Brasil  \n",
            "9                        88,5[7]  Dezembro de 2019  Estados Unidos  \n",
            "10                       80,9[4]  Dezembro de 2019          Brasil  \n",
            "11                       58,6[8]  Dezembro de 2019          Brasil  \n"
          ]
        }
      ],
      "source": [
        "bcs = pd.read_html(\"https://pt.wikipedia.org/wiki/Lista_dos_maiores_bancos_do_Brasil\")\n",
        "b =bcs[1]\n",
        "print(b)"
      ]
    }
  ],
  "metadata": {
    "kernelspec": {
      "display_name": "Python 3",
      "language": "python",
      "name": "python3"
    },
    "language_info": {
      "codemirror_mode": {
        "name": "ipython",
        "version": 3
      },
      "file_extension": ".py",
      "mimetype": "text/x-python",
      "name": "python",
      "nbconvert_exporter": "python",
      "pygments_lexer": "ipython3",
      "version": "3.7.3"
    },
    "colab": {
      "provenance": [],
      "include_colab_link": true
    }
  },
  "nbformat": 4,
  "nbformat_minor": 0
}