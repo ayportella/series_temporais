{
  "cells": [
    {
      "cell_type": "markdown",
      "metadata": {
        "id": "view-in-github",
        "colab_type": "text"
      },
      "source": [
        "<a href=\"https://colab.research.google.com/github/ayportella/series_temporais/blob/main/sec4_4_Teste_de_Estacionariedade.ipynb\" target=\"_parent\"><img src=\"https://colab.research.google.com/assets/colab-badge.svg\" alt=\"Open In Colab\"/></a>"
      ]
    },
    {
      "cell_type": "markdown",
      "metadata": {
        "id": "oS_6Abr66dq1"
      },
      "source": [
        "# Teste de Estacionariedade\n",
        "Prof. Fernando Amaral"
      ]
    },
    {
      "cell_type": "code",
      "execution_count": 2,
      "metadata": {
        "id": "zsC2_7I76dq4"
      },
      "outputs": [],
      "source": [
        "import pandas as pd\n",
        "import numpy as np\n",
        "import matplotlib.pylab as plt\n",
        "from matplotlib.pylab import rcParams\n",
        "from pandas.plotting import register_matplotlib_converters\n",
        "register_matplotlib_converters()\n",
        "from datetime import datetime"
      ]
    },
    {
      "cell_type": "code",
      "execution_count": 3,
      "metadata": {
        "id": "NTh1jNr16dq6"
      },
      "outputs": [],
      "source": [
        "dateparse = lambda dates: datetime.strptime(dates, '%Y-%m')\n",
        "data = pd.read_csv('AirPassengers.csv', parse_dates=['Month'], index_col='Month', date_parser=dateparse)"
      ]
    },
    {
      "cell_type": "code",
      "execution_count": 4,
      "metadata": {
        "id": "IOl6Ji5Q6dq6"
      },
      "outputs": [],
      "source": [
        "from statsmodels.tsa.stattools import adfuller"
      ]
    },
    {
      "cell_type": "code",
      "execution_count": null,
      "metadata": {
        "colab": {
          "base_uri": "https://localhost:8080/"
        },
        "id": "6dSes_oM6dq6",
        "outputId": "dd355096-0c9a-40bd-e70d-3a5368e7a90f"
      },
      "outputs": [
        {
          "output_type": "stream",
          "name": "stdout",
          "text": [
            "ADF Estatíticas: 0.815369\n",
            "Valor de P: 0.991880\n",
            "Valores Críticos:\n",
            "\t1%: -3.482\n",
            "\t5%: -2.884\n",
            "\t10%: -2.579\n"
          ]
        }
      ],
      "source": [
        "X = data['#Passengers']\n",
        "result = adfuller(X)\n",
        "print('ADF Estatíticas: %f' % result[0])\n",
        "print('Valor de P: %f' % result[1])\n",
        "print('Valores Críticos:')\n",
        "for key, value in result[4].items():\n",
        "   print('\\t%s: %.3f' % (key, value))"
      ]
    },
    {
      "cell_type": "markdown",
      "source": [
        "Por não ser uma série estacionária, os testes estatísticos mostram a mesma coisa: </br>\n",
        "A hipótese nula é de que a série temporal é não estacionária.</br>\n",
        "O valor de P está bem acima de 0.05, então não podemos rejeitar a hipótese nula de que a série temporal é não estacionária. Ou que a série temporal é não estacionária.\n"
      ],
      "metadata": {
        "id": "bV65-rY3SYPy"
      }
    }
  ],
  "metadata": {
    "kernelspec": {
      "display_name": "Python 3",
      "language": "python",
      "name": "python3"
    },
    "language_info": {
      "codemirror_mode": {
        "name": "ipython",
        "version": 3
      },
      "file_extension": ".py",
      "mimetype": "text/x-python",
      "name": "python",
      "nbconvert_exporter": "python",
      "pygments_lexer": "ipython3",
      "version": "3.7.3"
    },
    "colab": {
      "provenance": [],
      "include_colab_link": true
    }
  },
  "nbformat": 4,
  "nbformat_minor": 0
}